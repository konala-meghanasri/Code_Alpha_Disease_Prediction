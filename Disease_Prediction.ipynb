{
  "nbformat": 4,
  "nbformat_minor": 0,
  "metadata": {
    "colab": {
      "provenance": []
    },
    "kernelspec": {
      "name": "python3",
      "display_name": "Python 3"
    },
    "language_info": {
      "name": "python"
    }
  },
  "cells": [
    {
      "cell_type": "code",
      "execution_count": 33,
      "metadata": {
        "id": "7qpvNMbMrQI7"
      },
      "outputs": [],
      "source": [
        "#importing necessary libraries\n",
        "import pandas as pd\n",
        "import numpy as np\n",
        "import matplotlib.pyplot as plt\n",
        "from sklearn.model_selection import train_test_split\n",
        "from sklearn.preprocessing import StandardScaler\n",
        "from sklearn.neighbors import KNeighborsClassifier\n",
        "from sklearn.ensemble import RandomForestClassifier\n",
        "from sklearn.linear_model import LogisticRegression\n",
        "from sklearn.metrics import accuracy_score, confusion_matrix\n",
        "from scipy import stats"
      ]
    },
    {
      "cell_type": "code",
      "source": [
        "from google.colab import drive\n",
        "\n",
        "# Mount Google Drive\n",
        "drive.mount('/content/drive')"
      ],
      "metadata": {
        "colab": {
          "base_uri": "https://localhost:8080/"
        },
        "id": "TUv4rMKurTl8",
        "outputId": "d226b935-0293-41b0-e3e7-113b5aaa7040"
      },
      "execution_count": 34,
      "outputs": [
        {
          "output_type": "stream",
          "name": "stdout",
          "text": [
            "Drive already mounted at /content/drive; to attempt to forcibly remount, call drive.mount(\"/content/drive\", force_remount=True).\n"
          ]
        }
      ]
    },
    {
      "cell_type": "code",
      "source": [
        "# Load dataset\n",
        "DATA_PATH = '/content/drive/MyDrive/data/dataset.csv'\n",
        "data = pd.read_csv(DATA_PATH)"
      ],
      "metadata": {
        "id": "7Oqez9ImrX6b"
      },
      "execution_count": 35,
      "outputs": []
    },
    {
      "cell_type": "code",
      "source": [
        "# Print data information\n",
        "print(\"**Data Exploration**\")\n",
        "print(f\"\\nHead:\\n{data.head()}\")\n",
        "print(f\"\\nInfo:\\n{data.info()}\")\n",
        "print(f\"\\nTail:\\n{data.tail()}\")\n",
        "print(f\"\\nDescribe:\\n{data.describe()}\")\n",
        "# Preprocessing\n",
        "# Check for missing values\n",
        "missing_values = data.isnull().sum()\n",
        "print(\"\\nMissing Values:\")\n",
        "print(missing_values)\n",
        "\n",
        "# Drop rows with missing values\n",
        "data.dropna(inplace=True)\n",
        "# Model 3: Logistic Regression\n",
        "logreg_model = LogisticRegression(max_iter=1000)\n",
        "logreg_model.fit(X_train_scaled, y_train)\n",
        "# Making predictions\n",
        "knn_pred = knn_model.predict(X_test_scaled)\n",
        "rf_pred = rf_model.predict(X_test_scaled)\n",
        "logreg_pred = logreg_model.predict(X_test_scaled)\n",
        "\n"
      ],
      "metadata": {
        "colab": {
          "base_uri": "https://localhost:8080/"
        },
        "id": "-H_2yGfArmRl",
        "outputId": "67e2e40a-20ca-4d69-971d-24f9540bcd65"
      },
      "execution_count": 36,
      "outputs": [
        {
          "output_type": "stream",
          "name": "stdout",
          "text": [
            "**Data Exploration**\n",
            "\n",
            "Head:\n",
            "   very_dry_skin  sores_that_heal_slowly  more_infections_than_usual  nausea  \\\n",
            "0              1                       1                           1       1   \n",
            "1              1                       1                           1       1   \n",
            "2              1                       1                           1       1   \n",
            "3              1                       1                           1       1   \n",
            "4              1                       1                           1       1   \n",
            "\n",
            "   stomach_pains  urinate_a_lot  feel_very_thirsty  \\\n",
            "0              1              0                  0   \n",
            "1              1              0                  0   \n",
            "2              1              1                  0   \n",
            "3              1              0                  0   \n",
            "4              1              1                  1   \n",
            "\n",
            "   lose_weight_without_trying  blurry_vision  itching_hands_or_feet  ...  \\\n",
            "0                           0              0                      0  ...   \n",
            "1                           0              0                      0  ...   \n",
            "2                           0              1                      1  ...   \n",
            "3                           0              1                      1  ...   \n",
            "4                           1              1                      0  ...   \n",
            "\n",
            "   eye_pain  cough_with_yellow_or_green mucus   shortness_of_breath  \\\n",
            "0         0                                  0                    0   \n",
            "1         0                                  0                    0   \n",
            "2         0                                  0                    0   \n",
            "3         0                                  0                    0   \n",
            "4         0                                  0                    0   \n",
            "\n",
            "   high_temperature  chest_pain  aching_body  feeling_very_tired  \\\n",
            "0                 0           0            0                   0   \n",
            "1                 0           0            0                   0   \n",
            "2                 0           0            0                   0   \n",
            "3                 0           0            0                   0   \n",
            "4                 0           0            0                   0   \n",
            "\n",
            "   wheezing_noises_when_you_breathe   feeling_confused   disease  \n",
            "0                                  0                 0  diabetes  \n",
            "1                                  0                 0  diabetes  \n",
            "2                                  0                 0  diabetes  \n",
            "3                                  0                 0  diabetes  \n",
            "4                                  0                 0  diabetes  \n",
            "\n",
            "[5 rows x 35 columns]\n",
            "<class 'pandas.core.frame.DataFrame'>\n",
            "RangeIndex: 222 entries, 0 to 221\n",
            "Data columns (total 35 columns):\n",
            " #   Column                             Non-Null Count  Dtype \n",
            "---  ------                             --------------  ----- \n",
            " 0   very_dry_skin                      222 non-null    int64 \n",
            " 1   sores_that_heal_slowly             222 non-null    int64 \n",
            " 2   more_infections_than_usual         222 non-null    int64 \n",
            " 3   nausea                             222 non-null    int64 \n",
            " 4   stomach_pains                      222 non-null    int64 \n",
            " 5   urinate_a_lot                      222 non-null    int64 \n",
            " 6   feel_very_thirsty                  222 non-null    int64 \n",
            " 7   lose_weight_without_trying         222 non-null    int64 \n",
            " 8   blurry_vision                      222 non-null    int64 \n",
            " 9   itching_hands_or_feet              222 non-null    int64 \n",
            " 10  feel_very_hungry                   222 non-null    int64 \n",
            " 11  fever                              222 non-null    int64 \n",
            " 12  fatigue                            222 non-null    int64 \n",
            " 13  loss_of_appetite                   222 non-null    int64 \n",
            " 14  vomiting                           222 non-null    int64 \n",
            " 15  abdominal_pain                     222 non-null    int64 \n",
            " 16  dark_urine                         222 non-null    int64 \n",
            " 17  light_colored_stools               222 non-null    int64 \n",
            " 18  joint_pain                         222 non-null    int64 \n",
            " 19  jaundice                           222 non-null    int64 \n",
            " 20  rash                               222 non-null    int64 \n",
            " 21  bone_pain                          222 non-null    int64 \n",
            " 22  joint_pain.1                       222 non-null    int64 \n",
            " 23  muscle_pain                        222 non-null    int64 \n",
            " 24  cramp                              222 non-null    int64 \n",
            " 25  eye_pain                           222 non-null    int64 \n",
            " 26  cough_with_yellow_or_green mucus   222 non-null    int64 \n",
            " 27  shortness_of_breath                222 non-null    int64 \n",
            " 28  high_temperature                   222 non-null    int64 \n",
            " 29  chest_pain                         222 non-null    int64 \n",
            " 30  aching_body                        222 non-null    int64 \n",
            " 31  feeling_very_tired                 222 non-null    int64 \n",
            " 32  wheezing_noises_when_you_breathe   222 non-null    int64 \n",
            " 33  feeling_confused                   222 non-null    int64 \n",
            " 34  disease                            222 non-null    object\n",
            "dtypes: int64(34), object(1)\n",
            "memory usage: 60.8+ KB\n",
            "\n",
            "Info:\n",
            "None\n",
            "\n",
            "Tail:\n",
            "     very_dry_skin  sores_that_heal_slowly  more_infections_than_usual  \\\n",
            "217              0                       0                           0   \n",
            "218              0                       0                           0   \n",
            "219              0                       0                           0   \n",
            "220              0                       0                           0   \n",
            "221              0                       0                           0   \n",
            "\n",
            "     nausea  stomach_pains  urinate_a_lot  feel_very_thirsty  \\\n",
            "217       0              0              0                  0   \n",
            "218       0              0              0                  0   \n",
            "219       0              0              0                  0   \n",
            "220       0              0              0                  0   \n",
            "221       0              0              0                  0   \n",
            "\n",
            "     lose_weight_without_trying  blurry_vision  itching_hands_or_feet  ...  \\\n",
            "217                           0              0                      0  ...   \n",
            "218                           0              0                      0  ...   \n",
            "219                           0              0                      0  ...   \n",
            "220                           0              0                      0  ...   \n",
            "221                           0              0                      0  ...   \n",
            "\n",
            "     eye_pain  cough_with_yellow_or_green mucus   shortness_of_breath  \\\n",
            "217         0                                  0                    0   \n",
            "218         0                                  0                    0   \n",
            "219         0                                  0                    0   \n",
            "220         0                                  0                    0   \n",
            "221         0                                  0                    0   \n",
            "\n",
            "     high_temperature  chest_pain  aching_body  feeling_very_tired  \\\n",
            "217                 0           1            1                   0   \n",
            "218                 0           1            1                   0   \n",
            "219                 0           1            1                   1   \n",
            "220                 0           1            1                   1   \n",
            "221                 0           1            1                   1   \n",
            "\n",
            "     wheezing_noises_when_you_breathe   feeling_confused    disease  \n",
            "217                                  1                 0  pneumonia  \n",
            "218                                  1                 1  pneumonia  \n",
            "219                                  0                 0  pneumonia  \n",
            "220                                  0                 1  pneumonia  \n",
            "221                                  1                 0  pneumonia  \n",
            "\n",
            "[5 rows x 35 columns]\n",
            "\n",
            "Describe:\n",
            "       very_dry_skin  sores_that_heal_slowly  more_infections_than_usual  \\\n",
            "count     222.000000              222.000000                  222.000000   \n",
            "mean        0.288288                0.288288                    0.288288   \n",
            "std         0.453990                0.453990                    0.453990   \n",
            "min         0.000000                0.000000                    0.000000   \n",
            "25%         0.000000                0.000000                    0.000000   \n",
            "50%         0.000000                0.000000                    0.000000   \n",
            "75%         1.000000                1.000000                    1.000000   \n",
            "max         1.000000                1.000000                    1.000000   \n",
            "\n",
            "           nausea  stomach_pains  urinate_a_lot  feel_very_thirsty  \\\n",
            "count  222.000000     222.000000     222.000000         222.000000   \n",
            "mean     0.288288       0.288288       0.144144           0.144144   \n",
            "std      0.453990       0.453990       0.352030           0.352030   \n",
            "min      0.000000       0.000000       0.000000           0.000000   \n",
            "25%      0.000000       0.000000       0.000000           0.000000   \n",
            "50%      0.000000       0.000000       0.000000           0.000000   \n",
            "75%      1.000000       1.000000       0.000000           0.000000   \n",
            "max      1.000000       1.000000       1.000000           1.000000   \n",
            "\n",
            "       lose_weight_without_trying  blurry_vision  itching_hands_or_feet  ...  \\\n",
            "count                  222.000000     222.000000             222.000000  ...   \n",
            "mean                     0.144144       0.144144               0.144144  ...   \n",
            "std                      0.352030       0.352030               0.352030  ...   \n",
            "min                      0.000000       0.000000               0.000000  ...   \n",
            "25%                      0.000000       0.000000               0.000000  ...   \n",
            "50%                      0.000000       0.000000               0.000000  ...   \n",
            "75%                      0.000000       0.000000               0.000000  ...   \n",
            "max                      1.000000       1.000000               1.000000  ...   \n",
            "\n",
            "            cramp    eye_pain  cough_with_yellow_or_green mucus   \\\n",
            "count  222.000000  222.000000                         222.000000   \n",
            "mean     0.144144    0.144144                           0.148649   \n",
            "std      0.352030    0.352030                           0.356546   \n",
            "min      0.000000    0.000000                           0.000000   \n",
            "25%      0.000000    0.000000                           0.000000   \n",
            "50%      0.000000    0.000000                           0.000000   \n",
            "75%      0.000000    0.000000                           0.000000   \n",
            "max      1.000000    1.000000                           1.000000   \n",
            "\n",
            "       shortness_of_breath  high_temperature  chest_pain  aching_body  \\\n",
            "count           222.000000        222.000000  222.000000   222.000000   \n",
            "mean              0.135135          0.148649    0.171171     0.175676   \n",
            "std               0.342640          0.356546    0.377510     0.381404   \n",
            "min               0.000000          0.000000    0.000000     0.000000   \n",
            "25%               0.000000          0.000000    0.000000     0.000000   \n",
            "50%               0.000000          0.000000    0.000000     0.000000   \n",
            "75%               0.000000          0.000000    0.000000     0.000000   \n",
            "max               1.000000          1.000000    1.000000     1.000000   \n",
            "\n",
            "       feeling_very_tired  wheezing_noises_when_you_breathe   feeling_confused  \n",
            "count          222.000000                         222.000000        222.000000  \n",
            "mean             0.153153                           0.157658          0.148649  \n",
            "std              0.360949                           0.365243          0.356546  \n",
            "min              0.000000                           0.000000          0.000000  \n",
            "25%              0.000000                           0.000000          0.000000  \n",
            "50%              0.000000                           0.000000          0.000000  \n",
            "75%              0.000000                           0.000000          0.000000  \n",
            "max              1.000000                           1.000000          1.000000  \n",
            "\n",
            "[8 rows x 34 columns]\n"
          ]
        }
      ]
    },
    {
      "cell_type": "code",
      "source": [
        "# Preprocessing\n",
        "# Check for missing values\n",
        "missing_values = data.isnull().sum()\n",
        "print(\"\\nMissing Values:\")\n",
        "print(missing_values)\n",
        "\n",
        "# Drop rows with missing values\n",
        "data.dropna(inplace=True)"
      ],
      "metadata": {
        "colab": {
          "base_uri": "https://localhost:8080/"
        },
        "id": "cI3ud2nVry3D",
        "outputId": "72590a6a-acdf-4b78-d314-c9c555eeea99"
      },
      "execution_count": 37,
      "outputs": [
        {
          "output_type": "stream",
          "name": "stdout",
          "text": [
            "\n",
            "Missing Values:\n",
            "very_dry_skin                        0\n",
            "sores_that_heal_slowly               0\n",
            "more_infections_than_usual           0\n",
            "nausea                               0\n",
            "stomach_pains                        0\n",
            "urinate_a_lot                        0\n",
            "feel_very_thirsty                    0\n",
            "lose_weight_without_trying           0\n",
            "blurry_vision                        0\n",
            "itching_hands_or_feet                0\n",
            "feel_very_hungry                     0\n",
            "fever                                0\n",
            "fatigue                              0\n",
            "loss_of_appetite                     0\n",
            "vomiting                             0\n",
            "abdominal_pain                       0\n",
            "dark_urine                           0\n",
            "light_colored_stools                 0\n",
            "joint_pain                           0\n",
            "jaundice                             0\n",
            "rash                                 0\n",
            "bone_pain                            0\n",
            "joint_pain.1                         0\n",
            "muscle_pain                          0\n",
            "cramp                                0\n",
            "eye_pain                             0\n",
            "cough_with_yellow_or_green mucus     0\n",
            "shortness_of_breath                  0\n",
            "high_temperature                     0\n",
            "chest_pain                           0\n",
            "aching_body                          0\n",
            "feeling_very_tired                   0\n",
            "wheezing_noises_when_you_breathe     0\n",
            "feeling_confused                     0\n",
            "disease                              0\n",
            "dtype: int64\n"
          ]
        }
      ]
    },
    {
      "cell_type": "code",
      "source": [
        "# Splitting the data into features (X) and target (y)\n",
        "X = data.drop(columns=['disease'])  # Features\n",
        "y = data['disease']  # Target\n"
      ],
      "metadata": {
        "id": "e-_DRbkYr1dt"
      },
      "execution_count": 39,
      "outputs": []
    },
    {
      "cell_type": "code",
      "source": [
        "# Create pie chart for disease distribution\n",
        "disease_counts = y.value_counts()\n",
        "plt.figure(figsize=(10, 8))\n",
        "plt.pie(disease_counts, labels=disease_counts.index, autopct='%1.1f%%', startangle=140)\n",
        "plt.title('Distribution of Diseases')\n",
        "plt.axis('equal')\n",
        "plt.show()  # Explicitly show the plot\n"
      ],
      "metadata": {
        "colab": {
          "base_uri": "https://localhost:8080/",
          "height": 675
        },
        "id": "sbgqy6q-r6N3",
        "outputId": "6be3b07c-3cee-44df-b3e0-4f6d8491e53b"
      },
      "execution_count": 40,
      "outputs": [
        {
          "output_type": "display_data",
          "data": {
            "text/plain": [
              "<Figure size 1000x800 with 1 Axes>"
            ],
            "image/png": "[encoded data removed]"
          },
          "metadata": {}
        }
      ]
    },
    {
      "cell_type": "code",
      "source": [
        "# Splitting the data into training and testing sets\n",
        "X_train, X_test, y_train, y_test = train_test_split(X, y, test_size=0.2, random_state=42)\n"
      ],
      "metadata": {
        "id": "CtKwOHn_sDS1"
      },
      "execution_count": 43,
      "outputs": []
    },
    {
      "cell_type": "code",
      "source": [
        "# Check for any non-numeric values in the dataset\n",
        "non_numeric_values = X_train.apply(pd.to_numeric, errors='coerce').isnull().sum()\n",
        "print(\"Non-numeric values in the dataset:\")\n",
        "print(non_numeric_values)\n"
      ],
      "metadata": {
        "colab": {
          "base_uri": "https://localhost:8080/"
        },
        "id": "jPHROoC2lzB0",
        "outputId": "3769a151-5642-48ab-deb6-84e2411e2144"
      },
      "execution_count": 42,
      "outputs": [
        {
          "output_type": "stream",
          "name": "stdout",
          "text": [
            "Non-numeric values in the dataset:\n",
            "very_dry_skin                        0\n",
            "sores_that_heal_slowly               0\n",
            "more_infections_than_usual           0\n",
            "nausea                               0\n",
            "stomach_pains                        0\n",
            "urinate_a_lot                        0\n",
            "feel_very_thirsty                    0\n",
            "lose_weight_without_trying           0\n",
            "blurry_vision                        0\n",
            "itching_hands_or_feet                0\n",
            "feel_very_hungry                     0\n",
            "fever                                0\n",
            "fatigue                              0\n",
            "loss_of_appetite                     0\n",
            "vomiting                             0\n",
            "abdominal_pain                       0\n",
            "dark_urine                           0\n",
            "light_colored_stools                 0\n",
            "joint_pain                           0\n",
            "jaundice                             0\n",
            "rash                                 0\n",
            "bone_pain                            0\n",
            "joint_pain.1                         0\n",
            "muscle_pain                          0\n",
            "cramp                                0\n",
            "eye_pain                             0\n",
            "cough_with_yellow_or_green mucus     0\n",
            "shortness_of_breath                  0\n",
            "high_temperature                     0\n",
            "chest_pain                           0\n",
            "aching_body                          0\n",
            "feeling_very_tired                   0\n",
            "wheezing_noises_when_you_breathe     0\n",
            "feeling_confused                     0\n",
            "dtype: int64\n"
          ]
        }
      ]
    },
    {
      "cell_type": "code",
      "source": [
        "# Standardizing the features\n",
        "scaler = StandardScaler()\n",
        "X_train_scaled = scaler.fit_transform(X_train)\n",
        "X_test_scaled = scaler.transform(X_test)\n"
      ],
      "metadata": {
        "id": "c2Ywj9U5sLN1"
      },
      "execution_count": 44,
      "outputs": []
    },
    {
      "cell_type": "code",
      "source": [
        "# Model 1: K-Nearest Neighbors (KNN)\n",
        "knn_model = KNeighborsClassifier(n_neighbors=5)\n",
        "knn_model.fit(X_train_scaled, y_train)\n"
      ],
      "metadata": {
        "colab": {
          "base_uri": "https://localhost:8080/",
          "height": 75
        },
        "id": "XPylceJYsRuu",
        "outputId": "ed4af578-3ddb-441f-ff48-064fecbb9d55"
      },
      "execution_count": 45,
      "outputs": [
        {
          "output_type": "execute_result",
          "data": {
            "text/plain": [
              "KNeighborsClassifier()"
            ],
            "text/html": [
              "<style>#sk-container-id-1 {color: black;background-color: white;}#sk-container-id-1 pre{padding: 0;}#sk-container-id-1 div.sk-toggleable {background-color: white;}#sk-container-id-1 label.sk-toggleable__label {cursor: pointer;display: block;width: 100%;margin-bottom: 0;padding: 0.3em;box-sizing: border-box;text-align: center;}#sk-container-id-1 label.sk-toggleable__label-arrow:before {content: \"▸\";float: left;margin-right: 0.25em;color: #696969;}#sk-container-id-1 label.sk-toggleable__label-arrow:hover:before {color: black;}#sk-container-id-1 div.sk-estimator:hover label.sk-toggleable__label-arrow:before {color: black;}#sk-container-id-1 div.sk-toggleable__content {max-height: 0;max-width: 0;overflow: hidden;text-align: left;background-color: #f0f8ff;}#sk-container-id-1 div.sk-toggleable__content pre {margin: 0.2em;color: black;border-radius: 0.25em;background-color: #f0f8ff;}#sk-container-id-1 input.sk-toggleable__control:checked~div.sk-toggleable__content {max-height: 200px;max-width: 100%;overflow: auto;}#sk-container-id-1 input.sk-toggleable__control:checked~label.sk-toggleable__label-arrow:before {content: \"▾\";}#sk-container-id-1 div.sk-estimator input.sk-toggleable__control:checked~label.sk-toggleable__label {background-color: #d4ebff;}#sk-container-id-1 div.sk-label input.sk-toggleable__control:checked~label.sk-toggleable__label {background-color: #d4ebff;}#sk-container-id-1 input.sk-hidden--visually {border: 0;clip: rect(1px 1px 1px 1px);clip: rect(1px, 1px, 1px, 1px);height: 1px;margin: -1px;overflow: hidden;padding: 0;position: absolute;width: 1px;}#sk-container-id-1 div.sk-estimator {font-family: monospace;background-color: #f0f8ff;border: 1px dotted black;border-radius: 0.25em;box-sizing: border-box;margin-bottom: 0.5em;}#sk-container-id-1 div.sk-estimator:hover {background-color: #d4ebff;}#sk-container-id-1 div.sk-parallel-item::after {content: \"\";width: 100%;border-bottom: 1px solid gray;flex-grow: 1;}#sk-container-id-1 div.sk-label:hover label.sk-toggleable__label {background-color: #d4ebff;}#sk-container-id-1 div.sk-serial::before {content: \"\";position: absolute;border-left: 1px solid gray;box-sizing: border-box;top: 0;bottom: 0;left: 50%;z-index: 0;}#sk-container-id-1 div.sk-serial {display: flex;flex-direction: column;align-items: center;background-color: white;padding-right: 0.2em;padding-left: 0.2em;position: relative;}#sk-container-id-1 div.sk-item {position: relative;z-index: 1;}#sk-container-id-1 div.sk-parallel {display: flex;align-items: stretch;justify-content: center;background-color: white;position: relative;}#sk-container-id-1 div.sk-item::before, #sk-container-id-1 div.sk-parallel-item::before {content: \"\";position: absolute;border-left: 1px solid gray;box-sizing: border-box;top: 0;bottom: 0;left: 50%;z-index: -1;}#sk-container-id-1 div.sk-parallel-item {display: flex;flex-direction: column;z-index: 1;position: relative;background-color: white;}#sk-container-id-1 div.sk-parallel-item:first-child::after {align-self: flex-end;width: 50%;}#sk-container-id-1 div.sk-parallel-item:last-child::after {align-self: flex-start;width: 50%;}#sk-container-id-1 div.sk-parallel-item:only-child::after {width: 0;}#sk-container-id-1 div.sk-dashed-wrapped {border: 1px dashed gray;margin: 0 0.4em 0.5em 0.4em;box-sizing: border-box;padding-bottom: 0.4em;background-color: white;}#sk-container-id-1 div.sk-label label {font-family: monospace;font-weight: bold;display: inline-block;line-height: 1.2em;}#sk-container-id-1 div.sk-label-container {text-align: center;}#sk-container-id-1 div.sk-container {/* jupyter's `normalize.less` sets `[hidden] { display: none; }` but bootstrap.min.css set `[hidden] { display: none !important; }` so we also need the `!important` here to be able to override the default hidden behavior on the sphinx rendered scikit-learn.org. See: https://github.com/scikit-learn/scikit-learn/issues/21755 */display: inline-block !important;position: relative;}#sk-container-id-1 div.sk-text-repr-fallback {display: none;}</style><div id=\"sk-container-id-1\" class=\"sk-top-container\"><div class=\"sk-text-repr-fallback\"><pre>KNeighborsClassifier()</pre><b>In a Jupyter environment, please rerun this cell to show the HTML representation or trust the notebook. <br />On GitHub, the HTML representation is unable to render, please try loading this page with nbviewer.org.</b></div><div class=\"sk-container\" hidden><div class=\"sk-item\"><div class=\"sk-estimator sk-toggleable\"><input class=\"sk-toggleable__control sk-hidden--visually\" id=\"sk-estimator-id-1\" type=\"checkbox\" checked><label for=\"sk-estimator-id-1\" class=\"sk-toggleable__label sk-toggleable__label-arrow\">KNeighborsClassifier</label><div class=\"sk-toggleable__content\"><pre>KNeighborsClassifier()</pre></div></div></div></div></div>"
            ]
          },
          "metadata": {},
          "execution_count": 45
        }
      ]
    },
    {
      "cell_type": "code",
      "source": [
        "# Model 2: Random Forest\n",
        "rf_model = RandomForestClassifier(n_estimators=100, random_state=42)\n",
        "rf_model.fit(X_train_scaled, y_train)\n",
        "\n"
      ],
      "metadata": {
        "colab": {
          "base_uri": "https://localhost:8080/",
          "height": 75
        },
        "id": "hKzOYQNcsi3a",
        "outputId": "b9332bb5-09b0-4c73-f3e9-7508ce7335de"
      },
      "execution_count": 46,
      "outputs": [
        {
          "output_type": "execute_result",
          "data": {
            "text/plain": [
              "RandomForestClassifier(random_state=42)"
            ],
            "text/html": [
              "<style>#sk-container-id-2 {color: black;background-color: white;}#sk-container-id-2 pre{padding: 0;}#sk-container-id-2 div.sk-toggleable {background-color: white;}#sk-container-id-2 label.sk-toggleable__label {cursor: pointer;display: block;width: 100%;margin-bottom: 0;padding: 0.3em;box-sizing: border-box;text-align: center;}#sk-container-id-2 label.sk-toggleable__label-arrow:before {content: \"▸\";float: left;margin-right: 0.25em;color: #696969;}#sk-container-id-2 label.sk-toggleable__label-arrow:hover:before {color: black;}#sk-container-id-2 div.sk-estimator:hover label.sk-toggleable__label-arrow:before {color: black;}#sk-container-id-2 div.sk-toggleable__content {max-height: 0;max-width: 0;overflow: hidden;text-align: left;background-color: #f0f8ff;}#sk-container-id-2 div.sk-toggleable__content pre {margin: 0.2em;color: black;border-radius: 0.25em;background-color: #f0f8ff;}#sk-container-id-2 input.sk-toggleable__control:checked~div.sk-toggleable__content {max-height: 200px;max-width: 100%;overflow: auto;}#sk-container-id-2 input.sk-toggleable__control:checked~label.sk-toggleable__label-arrow:before {content: \"▾\";}#sk-container-id-2 div.sk-estimator input.sk-toggleable__control:checked~label.sk-toggleable__label {background-color: #d4ebff;}#sk-container-id-2 div.sk-label input.sk-toggleable__control:checked~label.sk-toggleable__label {background-color: #d4ebff;}#sk-container-id-2 input.sk-hidden--visually {border: 0;clip: rect(1px 1px 1px 1px);clip: rect(1px, 1px, 1px, 1px);height: 1px;margin: -1px;overflow: hidden;padding: 0;position: absolute;width: 1px;}#sk-container-id-2 div.sk-estimator {font-family: monospace;background-color: #f0f8ff;border: 1px dotted black;border-radius: 0.25em;box-sizing: border-box;margin-bottom: 0.5em;}#sk-container-id-2 div.sk-estimator:hover {background-color: #d4ebff;}#sk-container-id-2 div.sk-parallel-item::after {content: \"\";width: 100%;border-bottom: 1px solid gray;flex-grow: 1;}#sk-container-id-2 div.sk-label:hover label.sk-toggleable__label {background-color: #d4ebff;}#sk-container-id-2 div.sk-serial::before {content: \"\";position: absolute;border-left: 1px solid gray;box-sizing: border-box;top: 0;bottom: 0;left: 50%;z-index: 0;}#sk-container-id-2 div.sk-serial {display: flex;flex-direction: column;align-items: center;background-color: white;padding-right: 0.2em;padding-left: 0.2em;position: relative;}#sk-container-id-2 div.sk-item {position: relative;z-index: 1;}#sk-container-id-2 div.sk-parallel {display: flex;align-items: stretch;justify-content: center;background-color: white;position: relative;}#sk-container-id-2 div.sk-item::before, #sk-container-id-2 div.sk-parallel-item::before {content: \"\";position: absolute;border-left: 1px solid gray;box-sizing: border-box;top: 0;bottom: 0;left: 50%;z-index: -1;}#sk-container-id-2 div.sk-parallel-item {display: flex;flex-direction: column;z-index: 1;position: relative;background-color: white;}#sk-container-id-2 div.sk-parallel-item:first-child::after {align-self: flex-end;width: 50%;}#sk-container-id-2 div.sk-parallel-item:last-child::after {align-self: flex-start;width: 50%;}#sk-container-id-2 div.sk-parallel-item:only-child::after {width: 0;}#sk-container-id-2 div.sk-dashed-wrapped {border: 1px dashed gray;margin: 0 0.4em 0.5em 0.4em;box-sizing: border-box;padding-bottom: 0.4em;background-color: white;}#sk-container-id-2 div.sk-label label {font-family: monospace;font-weight: bold;display: inline-block;line-height: 1.2em;}#sk-container-id-2 div.sk-label-container {text-align: center;}#sk-container-id-2 div.sk-container {/* jupyter's `normalize.less` sets `[hidden] { display: none; }` but bootstrap.min.css set `[hidden] { display: none !important; }` so we also need the `!important` here to be able to override the default hidden behavior on the sphinx rendered scikit-learn.org. See: https://github.com/scikit-learn/scikit-learn/issues/21755 */display: inline-block !important;position: relative;}#sk-container-id-2 div.sk-text-repr-fallback {display: none;}</style><div id=\"sk-container-id-2\" class=\"sk-top-container\"><div class=\"sk-text-repr-fallback\"><pre>RandomForestClassifier(random_state=42)</pre><b>In a Jupyter environment, please rerun this cell to show the HTML representation or trust the notebook. <br />On GitHub, the HTML representation is unable to render, please try loading this page with nbviewer.org.</b></div><div class=\"sk-container\" hidden><div class=\"sk-item\"><div class=\"sk-estimator sk-toggleable\"><input class=\"sk-toggleable__control sk-hidden--visually\" id=\"sk-estimator-id-2\" type=\"checkbox\" checked><label for=\"sk-estimator-id-2\" class=\"sk-toggleable__label sk-toggleable__label-arrow\">RandomForestClassifier</label><div class=\"sk-toggleable__content\"><pre>RandomForestClassifier(random_state=42)</pre></div></div></div></div></div>"
            ]
          },
          "metadata": {},
          "execution_count": 46
        }
      ]
    },
    {
      "cell_type": "code",
      "source": [
        "# Model 3: Logistic Regression\n",
        "logreg_model = LogisticRegression(max_iter=1000)\n",
        "logreg_model.fit(X_train_scaled, y_train)"
      ],
      "metadata": {
        "colab": {
          "base_uri": "https://localhost:8080/",
          "height": 75
        },
        "id": "itIMGNyysmeQ",
        "outputId": "f7838ee7-6cc8-4ccc-a686-14190662d804"
      },
      "execution_count": 47,
      "outputs": [
        {
          "output_type": "execute_result",
          "data": {
            "text/plain": [
              "LogisticRegression(max_iter=1000)"
            ],
            "text/html": [
              "<style>#sk-container-id-3 {color: black;background-color: white;}#sk-container-id-3 pre{padding: 0;}#sk-container-id-3 div.sk-toggleable {background-color: white;}#sk-container-id-3 label.sk-toggleable__label {cursor: pointer;display: block;width: 100%;margin-bottom: 0;padding: 0.3em;box-sizing: border-box;text-align: center;}#sk-container-id-3 label.sk-toggleable__label-arrow:before {content: \"▸\";float: left;margin-right: 0.25em;color: #696969;}#sk-container-id-3 label.sk-toggleable__label-arrow:hover:before {color: black;}#sk-container-id-3 div.sk-estimator:hover label.sk-toggleable__label-arrow:before {color: black;}#sk-container-id-3 div.sk-toggleable__content {max-height: 0;max-width: 0;overflow: hidden;text-align: left;background-color: #f0f8ff;}#sk-container-id-3 div.sk-toggleable__content pre {margin: 0.2em;color: black;border-radius: 0.25em;background-color: #f0f8ff;}#sk-container-id-3 input.sk-toggleable__control:checked~div.sk-toggleable__content {max-height: 200px;max-width: 100%;overflow: auto;}#sk-container-id-3 input.sk-toggleable__control:checked~label.sk-toggleable__label-arrow:before {content: \"▾\";}#sk-container-id-3 div.sk-estimator input.sk-toggleable__control:checked~label.sk-toggleable__label {background-color: #d4ebff;}#sk-container-id-3 div.sk-label input.sk-toggleable__control:checked~label.sk-toggleable__label {background-color: #d4ebff;}#sk-container-id-3 input.sk-hidden--visually {border: 0;clip: rect(1px 1px 1px 1px);clip: rect(1px, 1px, 1px, 1px);height: 1px;margin: -1px;overflow: hidden;padding: 0;position: absolute;width: 1px;}#sk-container-id-3 div.sk-estimator {font-family: monospace;background-color: #f0f8ff;border: 1px dotted black;border-radius: 0.25em;box-sizing: border-box;margin-bottom: 0.5em;}#sk-container-id-3 div.sk-estimator:hover {background-color: #d4ebff;}#sk-container-id-3 div.sk-parallel-item::after {content: \"\";width: 100%;border-bottom: 1px solid gray;flex-grow: 1;}#sk-container-id-3 div.sk-label:hover label.sk-toggleable__label {background-color: #d4ebff;}#sk-container-id-3 div.sk-serial::before {content: \"\";position: absolute;border-left: 1px solid gray;box-sizing: border-box;top: 0;bottom: 0;left: 50%;z-index: 0;}#sk-container-id-3 div.sk-serial {display: flex;flex-direction: column;align-items: center;background-color: white;padding-right: 0.2em;padding-left: 0.2em;position: relative;}#sk-container-id-3 div.sk-item {position: relative;z-index: 1;}#sk-container-id-3 div.sk-parallel {display: flex;align-items: stretch;justify-content: center;background-color: white;position: relative;}#sk-container-id-3 div.sk-item::before, #sk-container-id-3 div.sk-parallel-item::before {content: \"\";position: absolute;border-left: 1px solid gray;box-sizing: border-box;top: 0;bottom: 0;left: 50%;z-index: -1;}#sk-container-id-3 div.sk-parallel-item {display: flex;flex-direction: column;z-index: 1;position: relative;background-color: white;}#sk-container-id-3 div.sk-parallel-item:first-child::after {align-self: flex-end;width: 50%;}#sk-container-id-3 div.sk-parallel-item:last-child::after {align-self: flex-start;width: 50%;}#sk-container-id-3 div.sk-parallel-item:only-child::after {width: 0;}#sk-container-id-3 div.sk-dashed-wrapped {border: 1px dashed gray;margin: 0 0.4em 0.5em 0.4em;box-sizing: border-box;padding-bottom: 0.4em;background-color: white;}#sk-container-id-3 div.sk-label label {font-family: monospace;font-weight: bold;display: inline-block;line-height: 1.2em;}#sk-container-id-3 div.sk-label-container {text-align: center;}#sk-container-id-3 div.sk-container {/* jupyter's `normalize.less` sets `[hidden] { display: none; }` but bootstrap.min.css set `[hidden] { display: none !important; }` so we also need the `!important` here to be able to override the default hidden behavior on the sphinx rendered scikit-learn.org. See: https://github.com/scikit-learn/scikit-learn/issues/21755 */display: inline-block !important;position: relative;}#sk-container-id-3 div.sk-text-repr-fallback {display: none;}</style><div id=\"sk-container-id-3\" class=\"sk-top-container\"><div class=\"sk-text-repr-fallback\"><pre>LogisticRegression(max_iter=1000)</pre><b>In a Jupyter environment, please rerun this cell to show the HTML representation or trust the notebook. <br />On GitHub, the HTML representation is unable to render, please try loading this page with nbviewer.org.</b></div><div class=\"sk-container\" hidden><div class=\"sk-item\"><div class=\"sk-estimator sk-toggleable\"><input class=\"sk-toggleable__control sk-hidden--visually\" id=\"sk-estimator-id-3\" type=\"checkbox\" checked><label for=\"sk-estimator-id-3\" class=\"sk-toggleable__label sk-toggleable__label-arrow\">LogisticRegression</label><div class=\"sk-toggleable__content\"><pre>LogisticRegression(max_iter=1000)</pre></div></div></div></div></div>"
            ]
          },
          "metadata": {},
          "execution_count": 47
        }
      ]
    },
    {
      "cell_type": "code",
      "source": [
        "# Making predictions\n",
        "knn_pred = knn_model.predict(X_test_scaled)\n",
        "rf_pred = rf_model.predict(X_test_scaled)\n",
        "logreg_pred = logreg_model.predict(X_test_scaled)\n"
      ],
      "metadata": {
        "id": "XzUQ2js2sqj-"
      },
      "execution_count": 48,
      "outputs": []
    },
    {
      "cell_type": "code",
      "source": [
        "# Evaluating models\n",
        "knn_accuracy = accuracy_score(y_test, knn_pred)\n",
        "rf_accuracy = accuracy_score(y_test, rf_pred)\n",
        "logreg_accuracy = accuracy_score(y_test, logreg_pred)\n",
        "\n",
        "print(\"KNN Accuracy:\", knn_accuracy)\n",
        "print(\"Random Forest Accuracy:\", rf_accuracy)\n",
        "print(\"Logistic Regression Accuracy:\", logreg_accuracy)"
      ],
      "metadata": {
        "colab": {
          "base_uri": "https://localhost:8080/"
        },
        "id": "PTGzcS8OsyPF",
        "outputId": "6dd0c666-6cca-4e56-c575-42a46e2b8cfb"
      },
      "execution_count": 49,
      "outputs": [
        {
          "output_type": "stream",
          "name": "stdout",
          "text": [
            "KNN Accuracy: 1.0\n",
            "Random Forest Accuracy: 1.0\n",
            "Logistic Regression Accuracy: 1.0\n"
          ]
        }
      ]
    },
    {
      "cell_type": "code",
      "source": [
        "# Evaluating models\n",
        "knn_accuracy_percentage = knn_accuracy * 100\n",
        "rf_accuracy_percentage = rf_accuracy * 100\n",
        "logreg_accuracy_percentage = logreg_accuracy * 100\n",
        "\n",
        "print(\"KNN Accuracy:\", knn_accuracy_percentage, \"%\")\n",
        "print(\"Random Forest Accuracy:\", rf_accuracy_percentage, \"%\")\n",
        "print(\"Logistic Regression Accuracy:\", logreg_accuracy_percentage, \"%\")\n"
      ],
      "metadata": {
        "colab": {
          "base_uri": "https://localhost:8080/"
        },
        "id": "W_Ao9pdUopcl",
        "outputId": "f9e2de1b-73b6-4865-991c-637ac3fc3eb0"
      },
      "execution_count": 50,
      "outputs": [
        {
          "output_type": "stream",
          "name": "stdout",
          "text": [
            "KNN Accuracy: 100.0 %\n",
            "Random Forest Accuracy: 100.0 %\n",
            "Logistic Regression Accuracy: 100.0 %\n"
          ]
        }
      ]
    },
    {
      "cell_type": "code",
      "source": [
        "# Confusion matrix for KNN\n",
        "knn_cm = confusion_matrix(y_test, knn_pred)\n",
        "\n",
        "# Confusion matrix for Random Forest\n",
        "rf_cm = confusion_matrix(y_test, rf_pred)\n",
        "\n",
        "# Confusion matrix for Logistic Regression\n",
        "logreg_cm = confusion_matrix(y_test, logreg_pred)\n",
        "\n",
        "# Plotting confusion matrices\n",
        "fig, axes = plt.subplots(1, 3, figsize=(18, 6))\n",
        "\n",
        "# Plotting confusion matrix for KNN\n",
        "axes[0].imshow(knn_cm, interpolation='nearest', cmap=plt.cm.Blues)\n",
        "axes[0].set_title('Confusion Matrix for KNN')\n",
        "axes[0].set_xlabel('Predicted Label')\n",
        "axes[0].set_ylabel('True Label')\n",
        "axes[0].set_xticks(np.arange(len(set(y))), set(y))\n",
        "axes[0].set_yticks(np.arange(len(set(y))), set(y))\n",
        "axes[0].tick_params(axis='x', rotation=45)\n",
        "\n",
        "# Plotting confusion matrix for Random Forest\n",
        "axes[1].imshow(rf_cm, interpolation='nearest', cmap=plt.cm.Blues)\n",
        "axes[1].set_title('Confusion Matrix for Random Forest')\n",
        "axes[1].set_xlabel('Predicted Label')\n",
        "axes[1].set_ylabel('True Label')\n",
        "axes[1].set_xticks(np.arange(len(set(y))), set(y))\n",
        "axes[1].set_yticks(np.arange(len(set(y))), set(y))\n",
        "axes[1].tick_params(axis='x', rotation=45)\n",
        "\n",
        "# Plotting confusion matrix for Logistic Regression\n",
        "axes[2].imshow(logreg_cm, interpolation='nearest', cmap=plt.cm.Blues)\n",
        "axes[2].set_title('Confusion Matrix for Logistic Regression')\n",
        "axes[2].set_xlabel('Predicted Label')\n",
        "axes[2].set_ylabel('True Label')\n",
        "axes[2].set_xticks(np.arange(len(set(y))), set(y))\n",
        "axes[2].set_yticks(np.arange(len(set(y))), set(y))\n",
        "axes[2].tick_params(axis='x', rotation=45)\n",
        "\n",
        "plt.tight_layout()\n",
        "plt.show()"
      ],
      "metadata": {
        "colab": {
          "base_uri": "https://localhost:8080/",
          "height": 440
        },
        "id": "PaEcAT3iorhF",
        "outputId": "9d4ea037-f2ac-4a71-ba1b-745b77977baa"
      },
      "execution_count": 51,
      "outputs": [
        {
          "output_type": "display_data",
          "data": {
            "text/plain": [
              "<Figure size 1800x600 with 3 Axes>"
            ],
            "image/png": "[encoded data removed]"
          },
          "metadata": {}
        }
      ]
    },
    {
      "cell_type": "code",
      "source": [
        "\n",
        "\n",
        "input_features = [\n",
        "    [1, 1, 1, 1, 1, 0, 0, 0, 0, 0, 0, 0, 0, 0, 0, 0, 0, 0, 0, 0, 0, 0, 0, 0, 0, 0, 0, 0, 0, 0, 0, 0, 0, 0],  # Example input feature vector with 34 features\n",
        "    [1, 1, 1, 1, 1, 0, 0, 0, 0, 0, 0, 0, 0, 0, 0, 0, 0, 0, 0, 0, 0, 1, 0, 1, 1, 0, 0, 0, 0, 0, 0, 0, 0, 0],  # Another example input feature vector with 34 features\n",
        "    # Add more input feature vectors as needed\n",
        "]\n",
        "\n",
        "# Standardize input features\n",
        "X_input_scaled = scaler.transform(input_features)\n",
        "\n",
        "# Make predictions\n",
        "knn_pred_input = knn_model.predict(X_input_scaled)\n",
        "rf_pred_input = rf_model.predict(X_input_scaled)\n",
        "logreg_pred_input = logreg_model.predict(X_input_scaled)\n",
        "\n",
        "print(\"KNN Predictions for input features:\", knn_pred_input)\n",
        "print(\"Random Forest Predictions for input features:\", rf_pred_input)\n",
        "print(\"Logistic Regression Predictions for input features:\", logreg_pred_input)\n"
      ],
      "metadata": {
        "colab": {
          "base_uri": "https://localhost:8080/"
        },
        "id": "7sBOduNVo72m",
        "outputId": "5ef08b39-4e59-4dd7-9b15-7b602a2c3a40"
      },
      "execution_count": 62,
      "outputs": [
        {
          "output_type": "stream",
          "name": "stdout",
          "text": [
            "KNN Predictions for input features: ['diabetes' 'dengue']\n",
            "Random Forest Predictions for input features: ['diabetes' 'diabetes']\n",
            "Logistic Regression Predictions for input features: ['diabetes' 'dengue']\n"
          ]
        },
        {
          "output_type": "stream",
          "name": "stderr",
          "text": [
            "/usr/local/lib/python3.10/dist-packages/sklearn/base.py:439: UserWarning: X does not have valid feature names, but StandardScaler was fitted with feature names\n",
            "  warnings.warn(\n"
          ]
        }
      ]
    }
  ]
}